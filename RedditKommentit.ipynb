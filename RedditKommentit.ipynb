{
 "cells": [
  {
   "cell_type": "markdown",
   "metadata": {},
   "source": [
    "## Reddit kommentit\n",
    "\n",
    "Pushshift API https://github.com/pushshift/api"
   ]
  },
  {
   "cell_type": "code",
   "execution_count": null,
   "metadata": {},
   "outputs": [],
   "source": [
    "import requests \n",
    "import json\n",
    "import pandas as pd\n",
    "\n",
    "q = '' #hakutermi(stö)\n",
    "subreddit='' #alareddit\n",
    "after = '' #alkaen ajankohdasta (esim. 2020-06-01) tai unix timestamp\n",
    "before = '' #ennen ajankohtaa\n",
    "\n",
    "\n",
    "def getPushshiftData(subreddit=None, before=None, after=None, ids=None, q=None):\n",
    "    suffix=''\n",
    "    if (before is not None):\n",
    "        suffix += '&before='+str(before)\n",
    "    if (after is not None):\n",
    "        suffix += '&after='+str(after)\n",
    "    if (subreddit is not None):\n",
    "        suffix += '&subreddit='+subreddit\n",
    "    if (q is not None):\n",
    "        suffix += '&q='+str(q)\n",
    "\n",
    "    url = 'https://api.pushshift.io/reddit/search/comment/?sort=desc&size=1500'+suffix\n",
    "    print('loading '+url)\n",
    "    r = requests.get(url)\n",
    "    data = json.loads(r.content)\n",
    "    if len(data['data']) > 0:\n",
    "        prev_end_date = data['data'][-1]['created_utc']\n",
    "    else:\n",
    "        prev_end_date = None\n",
    "    return (data, prev_end_date)\n",
    "\n",
    "(comments_tmp, prev_end_date) = getPushshiftData(subreddit=subreddit, q=q, after=after, before=before)\n",
    "comments = comments_tmp['data']\n",
    "while prev_end_date is not None:\n",
    "    (comments_tmp, prev_end_date) = getPushshiftData(subreddit=subreddit, q=q, before=prev_end_date-1, after=after)\n",
    "    if prev_end_date is not None:\n",
    "        comments.extend(comments_tmp['data'])\n",
    "        "
   ]
  }
 ],
 "metadata": {
  "kernelspec": {
   "display_name": "Python 3",
   "language": "python",
   "name": "python3"
  },
  "language_info": {
   "codemirror_mode": {
    "name": "ipython",
    "version": 3
   },
   "file_extension": ".py",
   "mimetype": "text/x-python",
   "name": "python",
   "nbconvert_exporter": "python",
   "pygments_lexer": "ipython3",
   "version": "3.7.6"
  }
 },
 "nbformat": 4,
 "nbformat_minor": 4
}
